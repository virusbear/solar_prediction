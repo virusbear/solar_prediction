{
 "cells": [
  {
   "metadata": {
    "ExecuteTime": {
     "end_time": "2025-08-13T13:28:19.378614Z",
     "start_time": "2025-08-13T13:28:11.626023Z"
    }
   },
   "cell_type": "code",
   "source": [
    "from sktime.transformations.series.difference import Differencer\n",
    "from sktime.forecasting.compose import TransformedTargetForecaster, make_reduction\n",
    "from xgboost import XGBRegressor\n",
    "\n",
    "def build_forecaster(window_length=10, random_state=42):\n",
    "    reg = XGBRegressor(\n",
    "        n_estimators=500,\n",
    "        learning_rate=0.05,\n",
    "        max_depth=6,\n",
    "        subsample=0.8,\n",
    "        colsample_bytree=0.8,\n",
    "        objective=\"reg:squarederror\",\n",
    "        random_state=random_state,\n",
    "        n_jobs=1,\n",
    "    )\n",
    "    forecaster = TransformedTargetForecaster(steps=[\n",
    "        (\"diff\", Differencer(lags=1)),\n",
    "        (\"regr\", make_reduction(\n",
    "            estimator=reg,\n",
    "            strategy=\"recursive\",\n",
    "            window_length=window_length\n",
    "        )),\n",
    "    ])\n",
    "    return forecaster\n",
    "\n",
    "base_forecaster = build_forecaster()"
   ],
   "id": "cd656bbe859ad570",
   "outputs": [],
   "execution_count": 1
  },
  {
   "metadata": {
    "collapsed": true,
    "ExecuteTime": {
     "end_time": "2025-08-13T13:28:22.897695Z",
     "start_time": "2025-08-13T13:28:19.395395Z"
    }
   },
   "cell_type": "code",
   "source": [
    "import pandas as pd\n",
    "from datetime import datetime, timezone\n",
    "import numpy as np\n",
    "\n",
    "d = pd.DataFrame()\n",
    "d['timestamp'] = pd.date_range(start=datetime(year=2025, month=1, day=1, tzinfo=timezone.utc), end=datetime.now(tz = timezone.utc), freq='5min')\n",
    "d['data'] = np.random.randn(len(d))\n",
    "d.set_index('timestamp', inplace=True)\n",
    "\n",
    "fit = d.loc[d.index[:500]]\n",
    "predict = d.loc[d.index[501:1000]]\n",
    "update = d.loc[d.index[1001:1500]]\n",
    "\n",
    "predict['data'] = np.nan\n",
    "\n",
    "base_forecaster.fit(y=fit)\n",
    "base_forecaster.predict(fh=len(predict))\n",
    "base_forecaster.update(y=predict, update_params=False)\n",
    "base_forecaster.update(y=update)"
   ],
   "id": "5b6d1f5c038315d9",
   "outputs": [
    {
     "ename": "ValueError",
     "evalue": "Inferred frequency None from passed values does not conform to passed frequency 5min",
     "output_type": "error",
     "traceback": [
      "\u001B[31m---------------------------------------------------------------------------\u001B[39m",
      "\u001B[31mValueError\u001B[39m                                Traceback (most recent call last)",
      "\u001B[36mFile \u001B[39m\u001B[32m~\\DataspellProjects\\solar_prediction\\.venv\\Lib\\site-packages\\pandas\\core\\arrays\\datetimelike.py:2151\u001B[39m, in \u001B[36mTimelikeOps._validate_frequency\u001B[39m\u001B[34m(cls, index, freq, **kwargs)\u001B[39m\n\u001B[32m   2150\u001B[39m     \u001B[38;5;28;01mif\u001B[39;00m \u001B[38;5;129;01mnot\u001B[39;00m np.array_equal(index.asi8, on_freq.asi8):\n\u001B[32m-> \u001B[39m\u001B[32m2151\u001B[39m         \u001B[38;5;28;01mraise\u001B[39;00m \u001B[38;5;167;01mValueError\u001B[39;00m\n\u001B[32m   2152\u001B[39m \u001B[38;5;28;01mexcept\u001B[39;00m \u001B[38;5;167;01mValueError\u001B[39;00m \u001B[38;5;28;01mas\u001B[39;00m err:\n",
      "\u001B[31mValueError\u001B[39m: ",
      "\nThe above exception was the direct cause of the following exception:\n",
      "\u001B[31mValueError\u001B[39m                                Traceback (most recent call last)",
      "\u001B[36mCell\u001B[39m\u001B[36m \u001B[39m\u001B[32mIn[2]\u001B[39m\u001B[32m, line 18\u001B[39m\n\u001B[32m     16\u001B[39m base_forecaster.fit(y=fit)\n\u001B[32m     17\u001B[39m base_forecaster.predict(fh=\u001B[38;5;28mlen\u001B[39m(predict))\n\u001B[32m---> \u001B[39m\u001B[32m18\u001B[39m \u001B[43mbase_forecaster\u001B[49m\u001B[43m.\u001B[49m\u001B[43mupdate\u001B[49m\u001B[43m(\u001B[49m\u001B[43my\u001B[49m\u001B[43m=\u001B[49m\u001B[43mpredict\u001B[49m\u001B[43m,\u001B[49m\u001B[43m \u001B[49m\u001B[43mupdate_params\u001B[49m\u001B[43m=\u001B[49m\u001B[38;5;28;43;01mFalse\u001B[39;49;00m\u001B[43m)\u001B[49m\n\u001B[32m     19\u001B[39m base_forecaster.update(y=update)\n",
      "\u001B[36mFile \u001B[39m\u001B[32m~\\DataspellProjects\\solar_prediction\\.venv\\Lib\\site-packages\\sktime\\forecasting\\base\\_base.py:1037\u001B[39m, in \u001B[36mBaseForecaster.update\u001B[39m\u001B[34m(self, y, X, update_params)\u001B[39m\n\u001B[32m   1035\u001B[39m \u001B[38;5;66;03m# checks and conversions complete, pass to inner fit\u001B[39;00m\n\u001B[32m   1036\u001B[39m \u001B[38;5;28;01mif\u001B[39;00m \u001B[38;5;129;01mnot\u001B[39;00m \u001B[38;5;28mself\u001B[39m._is_vectorized:\n\u001B[32m-> \u001B[39m\u001B[32m1037\u001B[39m     \u001B[38;5;28;43mself\u001B[39;49m\u001B[43m.\u001B[49m\u001B[43m_update\u001B[49m\u001B[43m(\u001B[49m\u001B[43my\u001B[49m\u001B[43m=\u001B[49m\u001B[43my_inner\u001B[49m\u001B[43m,\u001B[49m\u001B[43m \u001B[49m\u001B[43mX\u001B[49m\u001B[43m=\u001B[49m\u001B[43mX_inner\u001B[49m\u001B[43m,\u001B[49m\u001B[43m \u001B[49m\u001B[43mupdate_params\u001B[49m\u001B[43m=\u001B[49m\u001B[43mupdate_params\u001B[49m\u001B[43m)\u001B[49m\n\u001B[32m   1038\u001B[39m \u001B[38;5;28;01melse\u001B[39;00m:\n\u001B[32m   1039\u001B[39m     \u001B[38;5;28mself\u001B[39m._vectorize(\u001B[33m\"\u001B[39m\u001B[33mupdate\u001B[39m\u001B[33m\"\u001B[39m, y=y_inner, X=X_inner, update_params=update_params)\n",
      "\u001B[36mFile \u001B[39m\u001B[32m~\\DataspellProjects\\solar_prediction\\.venv\\Lib\\site-packages\\sktime\\forecasting\\compose\\_pipeline.py:1116\u001B[39m, in \u001B[36mTransformedTargetForecaster._update\u001B[39m\u001B[34m(self, y, X, update_params)\u001B[39m\n\u001B[32m   1114\u001B[39m     \u001B[38;5;28;01mif\u001B[39;00m \u001B[38;5;28mhasattr\u001B[39m(t, \u001B[33m\"\u001B[39m\u001B[33mupdate\u001B[39m\u001B[33m\"\u001B[39m):\n\u001B[32m   1115\u001B[39m         t.update(X=y, y=X, update_params=update_params)\n\u001B[32m-> \u001B[39m\u001B[32m1116\u001B[39m         y = \u001B[43mt\u001B[49m\u001B[43m.\u001B[49m\u001B[43mtransform\u001B[49m\u001B[43m(\u001B[49m\u001B[43mX\u001B[49m\u001B[43m=\u001B[49m\u001B[43my\u001B[49m\u001B[43m,\u001B[49m\u001B[43m \u001B[49m\u001B[43my\u001B[49m\u001B[43m=\u001B[49m\u001B[43mX\u001B[49m\u001B[43m)\u001B[49m\n\u001B[32m   1118\u001B[39m \u001B[38;5;28mself\u001B[39m.forecaster_.update(y=y, X=X, update_params=update_params)\n\u001B[32m   1120\u001B[39m \u001B[38;5;66;03m# transform post\u001B[39;00m\n",
      "\u001B[36mFile \u001B[39m\u001B[32m~\\DataspellProjects\\solar_prediction\\.venv\\Lib\\site-packages\\sktime\\transformations\\base.py:631\u001B[39m, in \u001B[36mBaseTransformer.transform\u001B[39m\u001B[34m(self, X, y)\u001B[39m\n\u001B[32m    629\u001B[39m \u001B[38;5;66;03m# if no vectorization needed, we call _transform directly\u001B[39;00m\n\u001B[32m    630\u001B[39m \u001B[38;5;28;01mif\u001B[39;00m \u001B[38;5;129;01mnot\u001B[39;00m vectorization_needed:\n\u001B[32m--> \u001B[39m\u001B[32m631\u001B[39m     Xt = \u001B[38;5;28;43mself\u001B[39;49m\u001B[43m.\u001B[49m\u001B[43m_transform\u001B[49m\u001B[43m(\u001B[49m\u001B[43mX\u001B[49m\u001B[43m=\u001B[49m\u001B[43mX_inner\u001B[49m\u001B[43m,\u001B[49m\u001B[43m \u001B[49m\u001B[43my\u001B[49m\u001B[43m=\u001B[49m\u001B[43my_inner\u001B[49m\u001B[43m)\u001B[49m\n\u001B[32m    632\u001B[39m \u001B[38;5;28;01melse\u001B[39;00m:\n\u001B[32m    633\u001B[39m     \u001B[38;5;66;03m# otherwise we call the vectorized version of predict\u001B[39;00m\n\u001B[32m    634\u001B[39m     Xt = \u001B[38;5;28mself\u001B[39m._vectorize(\u001B[33m\"\u001B[39m\u001B[33mtransform\u001B[39m\u001B[33m\"\u001B[39m, X=X_inner, y=y_inner)\n",
      "\u001B[36mFile \u001B[39m\u001B[32m~\\DataspellProjects\\solar_prediction\\.venv\\Lib\\site-packages\\sktime\\transformations\\series\\difference.py:347\u001B[39m, in \u001B[36mDifferencer._transform\u001B[39m\u001B[34m(self, X, y)\u001B[39m\n\u001B[32m    344\u001B[39m X = update_data(X=\u001B[38;5;28mself\u001B[39m._X, X_new=X)\n\u001B[32m    345\u001B[39m X = X.sort_index()\n\u001B[32m--> \u001B[39m\u001B[32m347\u001B[39m X = \u001B[38;5;28;43mself\u001B[39;49m\u001B[43m.\u001B[49m\u001B[43m_check_freq\u001B[49m\u001B[43m(\u001B[49m\u001B[43mX\u001B[49m\u001B[43m)\u001B[49m\n\u001B[32m    349\u001B[39m Xt = _diff_transform(X, \u001B[38;5;28mself\u001B[39m._lags)\n\u001B[32m    351\u001B[39m na_handling = \u001B[38;5;28mself\u001B[39m.na_handling\n",
      "\u001B[36mFile \u001B[39m\u001B[32m~\\DataspellProjects\\solar_prediction\\.venv\\Lib\\site-packages\\sktime\\transformations\\series\\difference.py:322\u001B[39m, in \u001B[36mDifferencer._check_freq\u001B[39m\u001B[34m(self, X)\u001B[39m\n\u001B[32m    320\u001B[39m \u001B[38;5;28;01mif\u001B[39;00m \u001B[38;5;28mself\u001B[39m._freq \u001B[38;5;129;01mis\u001B[39;00m \u001B[38;5;129;01mnot\u001B[39;00m \u001B[38;5;28;01mNone\u001B[39;00m \u001B[38;5;129;01mand\u001B[39;00m \u001B[38;5;28mhasattr\u001B[39m(\u001B[38;5;28mself\u001B[39m._freq, \u001B[33m\"\u001B[39m\u001B[33mfreq\u001B[39m\u001B[33m\"\u001B[39m):\n\u001B[32m    321\u001B[39m     \u001B[38;5;28;01mif\u001B[39;00m \u001B[38;5;28mhasattr\u001B[39m(X.index, \u001B[33m\"\u001B[39m\u001B[33mfreq\u001B[39m\u001B[33m\"\u001B[39m) \u001B[38;5;129;01mand\u001B[39;00m X.index.freq \u001B[38;5;129;01mis\u001B[39;00m \u001B[38;5;28;01mNone\u001B[39;00m:\n\u001B[32m--> \u001B[39m\u001B[32m322\u001B[39m         \u001B[43mX\u001B[49m\u001B[43m.\u001B[49m\u001B[43mindex\u001B[49m\u001B[43m.\u001B[49m\u001B[43mfreq\u001B[49m = \u001B[38;5;28mself\u001B[39m._freq.freq\n\u001B[32m    323\u001B[39m \u001B[38;5;28;01mreturn\u001B[39;00m X\n",
      "\u001B[36mFile \u001B[39m\u001B[32m~\\DataspellProjects\\solar_prediction\\.venv\\Lib\\site-packages\\pandas\\core\\indexes\\datetimelike.py:106\u001B[39m, in \u001B[36mDatetimeIndexOpsMixin.freq\u001B[39m\u001B[34m(self, value)\u001B[39m\n\u001B[32m    103\u001B[39m \u001B[38;5;129m@freq\u001B[39m.setter\n\u001B[32m    104\u001B[39m \u001B[38;5;28;01mdef\u001B[39;00m\u001B[38;5;250m \u001B[39m\u001B[34mfreq\u001B[39m(\u001B[38;5;28mself\u001B[39m, value) -> \u001B[38;5;28;01mNone\u001B[39;00m:\n\u001B[32m    105\u001B[39m     \u001B[38;5;66;03m# error: Property \"freq\" defined in \"PeriodArray\" is read-only  [misc]\u001B[39;00m\n\u001B[32m--> \u001B[39m\u001B[32m106\u001B[39m     \u001B[38;5;28;43mself\u001B[39;49m\u001B[43m.\u001B[49m\u001B[43m_data\u001B[49m\u001B[43m.\u001B[49m\u001B[43mfreq\u001B[49m = value\n",
      "\u001B[36mFile \u001B[39m\u001B[32m~\\DataspellProjects\\solar_prediction\\.venv\\Lib\\site-packages\\pandas\\core\\arrays\\datetimelike.py:2081\u001B[39m, in \u001B[36mTimelikeOps.freq\u001B[39m\u001B[34m(self, value)\u001B[39m\n\u001B[32m   2079\u001B[39m \u001B[38;5;28;01mif\u001B[39;00m value \u001B[38;5;129;01mis\u001B[39;00m \u001B[38;5;129;01mnot\u001B[39;00m \u001B[38;5;28;01mNone\u001B[39;00m:\n\u001B[32m   2080\u001B[39m     value = to_offset(value)\n\u001B[32m-> \u001B[39m\u001B[32m2081\u001B[39m     \u001B[38;5;28;43mself\u001B[39;49m\u001B[43m.\u001B[49m\u001B[43m_validate_frequency\u001B[49m\u001B[43m(\u001B[49m\u001B[38;5;28;43mself\u001B[39;49m\u001B[43m,\u001B[49m\u001B[43m \u001B[49m\u001B[43mvalue\u001B[49m\u001B[43m)\u001B[49m\n\u001B[32m   2082\u001B[39m     \u001B[38;5;28;01mif\u001B[39;00m \u001B[38;5;28mself\u001B[39m.dtype.kind == \u001B[33m\"\u001B[39m\u001B[33mm\u001B[39m\u001B[33m\"\u001B[39m \u001B[38;5;129;01mand\u001B[39;00m \u001B[38;5;129;01mnot\u001B[39;00m \u001B[38;5;28misinstance\u001B[39m(value, Tick):\n\u001B[32m   2083\u001B[39m         \u001B[38;5;28;01mraise\u001B[39;00m \u001B[38;5;167;01mTypeError\u001B[39;00m(\u001B[33m\"\u001B[39m\u001B[33mTimedeltaArray/Index freq must be a Tick\u001B[39m\u001B[33m\"\u001B[39m)\n",
      "\u001B[36mFile \u001B[39m\u001B[32m~\\DataspellProjects\\solar_prediction\\.venv\\Lib\\site-packages\\pandas\\core\\arrays\\datetimelike.py:2162\u001B[39m, in \u001B[36mTimelikeOps._validate_frequency\u001B[39m\u001B[34m(cls, index, freq, **kwargs)\u001B[39m\n\u001B[32m   2156\u001B[39m     \u001B[38;5;28;01mraise\u001B[39;00m err\n\u001B[32m   2157\u001B[39m \u001B[38;5;66;03m# GH#11587 the main way this is reached is if the `np.array_equal`\u001B[39;00m\n\u001B[32m   2158\u001B[39m \u001B[38;5;66;03m#  check above is False.  This can also be reached if index[0]\u001B[39;00m\n\u001B[32m   2159\u001B[39m \u001B[38;5;66;03m#  is `NaT`, in which case the call to `cls._generate_range` will\u001B[39;00m\n\u001B[32m   2160\u001B[39m \u001B[38;5;66;03m#  raise a ValueError, which we re-raise with a more targeted\u001B[39;00m\n\u001B[32m   2161\u001B[39m \u001B[38;5;66;03m#  message.\u001B[39;00m\n\u001B[32m-> \u001B[39m\u001B[32m2162\u001B[39m \u001B[38;5;28;01mraise\u001B[39;00m \u001B[38;5;167;01mValueError\u001B[39;00m(\n\u001B[32m   2163\u001B[39m     \u001B[33mf\u001B[39m\u001B[33m\"\u001B[39m\u001B[33mInferred frequency \u001B[39m\u001B[38;5;132;01m{\u001B[39;00minferred\u001B[38;5;132;01m}\u001B[39;00m\u001B[33m from passed values \u001B[39m\u001B[33m\"\u001B[39m\n\u001B[32m   2164\u001B[39m     \u001B[33mf\u001B[39m\u001B[33m\"\u001B[39m\u001B[33mdoes not conform to passed frequency \u001B[39m\u001B[38;5;132;01m{\u001B[39;00mfreq.freqstr\u001B[38;5;132;01m}\u001B[39;00m\u001B[33m\"\u001B[39m\n\u001B[32m   2165\u001B[39m ) \u001B[38;5;28;01mfrom\u001B[39;00m\u001B[38;5;250m \u001B[39m\u001B[34;01merr\u001B[39;00m\n",
      "\u001B[31mValueError\u001B[39m: Inferred frequency None from passed values does not conform to passed frequency 5min"
     ]
    }
   ],
   "execution_count": 2
  }
 ],
 "metadata": {
  "kernelspec": {
   "display_name": "Python 3",
   "language": "python",
   "name": "python3"
  },
  "language_info": {
   "codemirror_mode": {
    "name": "ipython",
    "version": 2
   },
   "file_extension": ".py",
   "mimetype": "text/x-python",
   "name": "python",
   "nbconvert_exporter": "python",
   "pygments_lexer": "ipython2",
   "version": "2.7.6"
  }
 },
 "nbformat": 4,
 "nbformat_minor": 5
}
